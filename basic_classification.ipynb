{
  "nbformat": 4,
  "nbformat_minor": 0,
  "metadata": {
    "colab": {
      "name": "basic classification.ipynb",
      "version": "0.3.2",
      "provenance": [],
      "include_colab_link": true
    },
    "kernelspec": {
      "name": "python3",
      "display_name": "Python 3"
    }
  },
  "cells": [
    {
      "cell_type": "markdown",
      "metadata": {
        "id": "view-in-github",
        "colab_type": "text"
      },
      "source": [
        "<a href=\"https://colab.research.google.com/github/ANNASBlackHat/Basic-Classification/blob/master/basic_classification.ipynb\" target=\"_parent\"><img src=\"https://colab.research.google.com/assets/colab-badge.svg\" alt=\"Open In Colab\"/></a>"
      ]
    },
    {
      "cell_type": "code",
      "metadata": {
        "id": "TK75OJHYvP4o",
        "colab_type": "code",
        "colab": {
          "base_uri": "https://localhost:8080/",
          "height": 84
        },
        "outputId": "3d86c0de-426a-43b2-88c0-4aca6aa36bcb"
      },
      "source": [
        "!pip install -q tensorflow==2.0.0-alpha0"
      ],
      "execution_count": 5,
      "outputs": [
        {
          "output_type": "stream",
          "text": [
            "\u001b[K     |████████████████████████████████| 79.9MB 69.4MB/s \n",
            "\u001b[K     |████████████████████████████████| 3.0MB 30.7MB/s \n",
            "\u001b[K     |████████████████████████████████| 419kB 46.5MB/s \n",
            "\u001b[K     |████████████████████████████████| 61kB 22.7MB/s \n",
            "\u001b[?25h"
          ],
          "name": "stdout"
        }
      ]
    },
    {
      "cell_type": "code",
      "metadata": {
        "id": "q-Z91q_guXgV",
        "colab_type": "code",
        "colab": {}
      },
      "source": [
        "from __future__ import absolute_import, division, print_function, unicode_literals"
      ],
      "execution_count": 0,
      "outputs": []
    },
    {
      "cell_type": "code",
      "metadata": {
        "id": "kpQw9o_5utsz",
        "colab_type": "code",
        "colab": {}
      },
      "source": [
        "#tensorflow and keras\n",
        "import tensorflow as tf\n",
        "from tensorflow import keras\n",
        "\n",
        "#helper library\n",
        "import numpy as np\n",
        "import matplotlib.pyplot as plt"
      ],
      "execution_count": 0,
      "outputs": []
    },
    {
      "cell_type": "code",
      "metadata": {
        "id": "vm77T7oVvFeZ",
        "colab_type": "code",
        "colab": {
          "base_uri": "https://localhost:8080/",
          "height": 34
        },
        "outputId": "645ea392-dfcd-4c20-92d4-b6f7829a05d9"
      },
      "source": [
        "print(tf.__version__)"
      ],
      "execution_count": 8,
      "outputs": [
        {
          "output_type": "stream",
          "text": [
            "1.13.1\n"
          ],
          "name": "stdout"
        }
      ]
    },
    {
      "cell_type": "code",
      "metadata": {
        "id": "2EMfWNGLvLAv",
        "colab_type": "code",
        "colab": {}
      },
      "source": [
        "#download dataset - using MNIST dataset\n",
        "fashion_mnist = keras.datasets.fashion_mnist\n",
        "\n",
        "(train_images, train_labels), (test_images, test_labels) = fashion_mnist.load_data()"
      ],
      "execution_count": 0,
      "outputs": []
    },
    {
      "cell_type": "code",
      "metadata": {
        "id": "hMcGtdPjxCiV",
        "colab_type": "code",
        "colab": {}
      },
      "source": [
        "#The images are 28x28 NumPy arrays, with pixel values ranging from 0 to 255. The labels are an array of integers, ranging from 0 to 9\n",
        "\n",
        "class_names = ['T-shirt/top', 'Trouser', 'Pullover', 'Dress', 'Coat',\n",
        "               'Sandal', 'Shirt', 'Sneaker', 'Bag', 'Ankle boot']"
      ],
      "execution_count": 0,
      "outputs": []
    },
    {
      "cell_type": "markdown",
      "metadata": {
        "id": "t8DEDYaHxqft",
        "colab_type": "text"
      },
      "source": [
        "## Explore Data"
      ]
    },
    {
      "cell_type": "code",
      "metadata": {
        "id": "ysvjGImSxd3h",
        "colab_type": "code",
        "colab": {
          "base_uri": "https://localhost:8080/",
          "height": 34
        },
        "outputId": "404a5fd7-d238-46fc-e271-33307d395144"
      },
      "source": [
        "#The following shows there are 60,000 images in the training set, with each image represented as 28 x 28 pixels\n",
        "train_images.shape"
      ],
      "execution_count": 11,
      "outputs": [
        {
          "output_type": "execute_result",
          "data": {
            "text/plain": [
              "(60000, 28, 28)"
            ]
          },
          "metadata": {
            "tags": []
          },
          "execution_count": 11
        }
      ]
    },
    {
      "cell_type": "code",
      "metadata": {
        "id": "VayR9N8Ixyc1",
        "colab_type": "code",
        "colab": {
          "base_uri": "https://localhost:8080/",
          "height": 34
        },
        "outputId": "0665a34a-942d-4a87-c667-152bd0d56c4d"
      },
      "source": [
        "#Likewise, there are 60,000 labels in the training set\n",
        "len(train_labels)"
      ],
      "execution_count": 15,
      "outputs": [
        {
          "output_type": "execute_result",
          "data": {
            "text/plain": [
              "60000"
            ]
          },
          "metadata": {
            "tags": []
          },
          "execution_count": 15
        }
      ]
    },
    {
      "cell_type": "code",
      "metadata": {
        "id": "PushuqY9yEr9",
        "colab_type": "code",
        "colab": {
          "base_uri": "https://localhost:8080/",
          "height": 34
        },
        "outputId": "fffc8008-6e6d-4e64-9c3a-32d9102279d4"
      },
      "source": [
        "#Each label is an integer between 0 and 9\n",
        "train_lables"
      ],
      "execution_count": 16,
      "outputs": [
        {
          "output_type": "execute_result",
          "data": {
            "text/plain": [
              "array([9, 0, 0, ..., 3, 0, 5], dtype=uint8)"
            ]
          },
          "metadata": {
            "tags": []
          },
          "execution_count": 16
        }
      ]
    },
    {
      "cell_type": "code",
      "metadata": {
        "id": "2DRn9On1yZAq",
        "colab_type": "code",
        "colab": {
          "base_uri": "https://localhost:8080/",
          "height": 34
        },
        "outputId": "7958dd9f-d5e7-4cee-d903-64765721da38"
      },
      "source": [
        "#There are 10,000 images in the test set. Again, each image is represented as 28 x 28 pixels\n",
        "test_images.shape"
      ],
      "execution_count": 17,
      "outputs": [
        {
          "output_type": "execute_result",
          "data": {
            "text/plain": [
              "(10000, 28, 28)"
            ]
          },
          "metadata": {
            "tags": []
          },
          "execution_count": 17
        }
      ]
    },
    {
      "cell_type": "markdown",
      "metadata": {
        "id": "OFBK6jzRyy0H",
        "colab_type": "text"
      },
      "source": [
        "## Process The Data"
      ]
    },
    {
      "cell_type": "markdown",
      "metadata": {
        "id": "6V6WAtgx0Trn",
        "colab_type": "text"
      },
      "source": [
        "The data must be preprocessed before training the network,  If you inspect the first image in the training set, you will see that the pixel values fall in the range of 0 to 255"
      ]
    },
    {
      "cell_type": "code",
      "metadata": {
        "id": "TzrQ8lhnyh5H",
        "colab_type": "code",
        "colab": {
          "base_uri": "https://localhost:8080/",
          "height": 269
        },
        "outputId": "fa245344-26f1-4099-ec0b-4f738f35ee1a"
      },
      "source": [
        "plt.figure()\n",
        "plt.imshow(train_images[0])\n",
        "plt.colorbar()\n",
        "plt.grid(False)\n",
        "plt.show()"
      ],
      "execution_count": 23,
      "outputs": [
        {
          "output_type": "display_data",
          "data": {
            "image/png": "[encoded data removed]",
            "text/plain": [
              "<Figure size 432x288 with 2 Axes>"
            ]
          },
          "metadata": {
            "tags": []
          }
        }
      ]
    },
    {
      "cell_type": "markdown",
      "metadata": {
        "id": "lL2yA5BL0k2-",
        "colab_type": "text"
      },
      "source": [
        "scale these values to a range of 0 to 1 before feeding them to the neural network model. To do so, we divide the values by 255. It's important that the training set and the testing set be preprocessed in the same way"
      ]
    },
    {
      "cell_type": "code",
      "metadata": {
        "id": "TmtlQm5P1z8N",
        "colab_type": "code",
        "colab": {}
      },
      "source": [
        "train_images = train_images / 255.0\n",
        "test_images = test_images / 255.0"
      ],
      "execution_count": 0,
      "outputs": []
    },
    {
      "cell_type": "markdown",
      "metadata": {
        "id": "ufV59O0bz8uO",
        "colab_type": "text"
      },
      "source": [
        "To verify that the data is in the correct format and that we're ready to build and train the network, let's display the first 25 images from the training set and display the class name below each image."
      ]
    },
    {
      "cell_type": "code",
      "metadata": {
        "id": "hUlHtIPD2yQR",
        "colab_type": "code",
        "colab": {
          "base_uri": "https://localhost:8080/",
          "height": 592
        },
        "outputId": "fb2da9a4-8aa9-4643-b448-c5b19a14138a"
      },
      "source": [
        "plt.figure(figsize = (10,10))\n",
        "for i in range(25):\n",
        "  plt.subplot(5,5,i+1)\n",
        "  plt.xticks([])\n",
        "  plt.yticks([])\n",
        "  plt.grid(False)\n",
        "  plt.imshow(train_images[i], cmap = plt.cm.binary)\n",
        "  plt.xlabel(class_names[train_labels[i]])\n",
        "\n",
        "plt.show()"
      ],
      "execution_count": 26,
      "outputs": [
        {
          "output_type": "display_data",
          "data": {
            "image/png": "[encoded data removed]",
            "text/plain": [
              "<Figure size 720x720 with 25 Axes>"
            ]
          },
          "metadata": {
            "tags": []
          }
        }
      ]
    },
    {
      "cell_type": "markdown",
      "metadata": {
        "id": "2jYQNSzy3gih",
        "colab_type": "text"
      },
      "source": [
        "## Build The Model\n",
        "Building the neural network requires configuring the layers of the model, then compiling the model."
      ]
    },
    {
      "cell_type": "markdown",
      "metadata": {
        "id": "fE9i58R13vu4",
        "colab_type": "text"
      },
      "source": [
        "### Setup The Layers\n",
        "The basic building block of a neural network is the layer. Layers extract representations from the data fed into them. Hopefully, these representations are meaningful for the problem at hand.\n",
        "\n",
        "Most of deep learning consists of chaining together simple layers. Most layers, such as tf.keras.layers.Dense, have parameters that are learned during training.\n"
      ]
    },
    {
      "cell_type": "code",
      "metadata": {
        "id": "fJ0kAlfZ4yUu",
        "colab_type": "code",
        "colab": {
          "base_uri": "https://localhost:8080/",
          "height": 87
        },
        "outputId": "be655251-4b9b-4469-fcde-a9054ce72f5b"
      },
      "source": [
        "model = keras.Sequential([\n",
        "    keras.layers.Flatten(input_shape=(28,28)),\n",
        "    keras.layers.Dense(128, activation='relu'),\n",
        "    keras.layers.Dense(10, activation='softmax')\n",
        "])"
      ],
      "execution_count": 27,
      "outputs": [
        {
          "output_type": "stream",
          "text": [
            "WARNING:tensorflow:From /usr/local/lib/python3.6/dist-packages/tensorflow/python/ops/resource_variable_ops.py:435: colocate_with (from tensorflow.python.framework.ops) is deprecated and will be removed in a future version.\n",
            "Instructions for updating:\n",
            "Colocations handled automatically by placer.\n"
          ],
          "name": "stdout"
        }
      ]
    },
    {
      "cell_type": "markdown",
      "metadata": {
        "id": "mNDi1qyX72We",
        "colab_type": "text"
      },
      "source": [
        "The first layer in this network, tf.keras.layers.Flatten, transforms the format of the images from a two-dimensional array (of 28 by 28 pixels) to a one-dimensional array (of 28 * 28 = 784 pixels). Think of this layer as unstacking rows of pixels in the image and lining them up. This layer has no parameters to learn; it only reformats the data.\n",
        "\n",
        "After the pixels are flattened, the network consists of a sequence of two tf.keras.layers.Dense layers. These are densely connected, or fully connected, neural layers. The first Dense layer has 128 nodes (or neurons). The second (and last) layer is a 10-node softmax layer that returns an array of 10 probability scores that sum to 1. Each node contains a score that indicates the probability that the current image belongs to one of the 10 classes."
      ]
    },
    {
      "cell_type": "markdown",
      "metadata": {
        "id": "HfxTMz8Y77Dl",
        "colab_type": "text"
      },
      "source": [
        "### Compile The Model\n",
        "Before the model is ready for training, it needs a few more settings. These are added during the model's compile step:\n",
        "\n",
        "* Loss function —This measures how accurate the model is during training. We want to minimize this function to \"steer\" the model in the right direction.\n",
        "\n",
        "* Optimizer —This is how the model is updated based on the data it sees and its loss function.\n",
        "\n",
        "* Metrics —Used to monitor the training and testing steps. The following example uses accuracy, the fraction of the images that are correctly classified."
      ]
    },
    {
      "cell_type": "code",
      "metadata": {
        "id": "6ipQcYx08Tus",
        "colab_type": "code",
        "colab": {}
      },
      "source": [
        "model.compile(optimizer = 'adam',\n",
        "             loss = 'sparse_categorical_crossentropy',\n",
        "             metrics = ['accuracy'])\n"
      ],
      "execution_count": 0,
      "outputs": []
    },
    {
      "cell_type": "markdown",
      "metadata": {
        "id": "Kzz_SLk38qYB",
        "colab_type": "text"
      },
      "source": [
        "### Train The Model\n",
        "Training the neural network model requires the following steps:\n",
        "\n",
        "1. Feed the training data to the model. In this example, the training data is in the train_images and train_labels arrays.\n",
        "2. The model learns to associate images and labels.\n",
        "3. We ask the model to make predictions about a test set—in this example, the test_images array. We verify that the predictions match the labels from the test_labels array."
      ]
    },
    {
      "cell_type": "code",
      "metadata": {
        "id": "nwWr6Vf59OlY",
        "colab_type": "code",
        "colab": {
          "base_uri": "https://localhost:8080/",
          "height": 202
        },
        "outputId": "929e14b0-236f-4bea-8179-accbc61aacdd"
      },
      "source": [
        "#To start training, call the model.fit method—so called because it \"fits\" the model to the training data\n",
        "model.fit(train_images, train_labels, epochs=5)"
      ],
      "execution_count": 30,
      "outputs": [
        {
          "output_type": "stream",
          "text": [
            "Epoch 1/5\n",
            "60000/60000 [==============================] - 7s 117us/sample - loss: 0.4969 - acc: 0.8258\n",
            "Epoch 2/5\n",
            "60000/60000 [==============================] - 7s 109us/sample - loss: 0.3750 - acc: 0.8654\n",
            "Epoch 3/5\n",
            "60000/60000 [==============================] - 7s 109us/sample - loss: 0.3385 - acc: 0.8766\n",
            "Epoch 4/5\n",
            "60000/60000 [==============================] - 7s 110us/sample - loss: 0.3143 - acc: 0.8860\n",
            "Epoch 5/5\n",
            "60000/60000 [==============================] - 7s 112us/sample - loss: 0.2946 - acc: 0.8909\n"
          ],
          "name": "stdout"
        },
        {
          "output_type": "execute_result",
          "data": {
            "text/plain": [
              "<tensorflow.python.keras.callbacks.History at 0x7f7414416908>"
            ]
          },
          "metadata": {
            "tags": []
          },
          "execution_count": 30
        }
      ]
    },
    {
      "cell_type": "markdown",
      "metadata": {
        "id": "o-b7BQ_c9ZNm",
        "colab_type": "text"
      },
      "source": [
        "As the model trains, the loss and accuracy metrics are displayed. This model reaches an accuracy of about 0.88 (or 88%) on the training data."
      ]
    },
    {
      "cell_type": "markdown",
      "metadata": {
        "id": "xxsV7jtR9xnY",
        "colab_type": "text"
      },
      "source": [
        "## Evaluate Accuracy"
      ]
    },
    {
      "cell_type": "code",
      "metadata": {
        "id": "5ypkzSaU-Foz",
        "colab_type": "code",
        "colab": {
          "base_uri": "https://localhost:8080/",
          "height": 67
        },
        "outputId": "e79511dc-90ee-478b-e534-58f95beb5f6d"
      },
      "source": [
        "#Next, compare how the model performs on the test dataset\n",
        "test_loss, test_acc = model.evaluate(test_images, test_labels)\n",
        "print('\\nTest Accuracy : ', test_acc)"
      ],
      "execution_count": 31,
      "outputs": [
        {
          "output_type": "stream",
          "text": [
            "10000/10000 [==============================] - 1s 52us/sample - loss: 0.3437 - acc: 0.8788\n",
            "\n",
            "Test Accuracy :  0.8788\n"
          ],
          "name": "stdout"
        }
      ]
    },
    {
      "cell_type": "markdown",
      "metadata": {
        "id": "U75-SquO-YCd",
        "colab_type": "text"
      },
      "source": [
        "It turns out that the accuracy on the test dataset is a little less than accuracy on the training dataset. This gap between training accuracy and test accuracy represents *Overfitting*. Overfitting is when a machine learning model performs worse on new, previously unseen inputs on the training data."
      ]
    },
    {
      "cell_type": "markdown",
      "metadata": {
        "id": "5V-aWuy6-dDA",
        "colab_type": "text"
      },
      "source": [
        "## Make Prediction\n",
        "With the model trained, we can use it to make predictions about some images "
      ]
    },
    {
      "cell_type": "code",
      "metadata": {
        "id": "4rWGxzsn_UIn",
        "colab_type": "code",
        "colab": {
          "base_uri": "https://localhost:8080/",
          "height": 67
        },
        "outputId": "c1217ed0-184a-4af8-ebef-771492cbbe1b"
      },
      "source": [
        "predictions = model.predict(test_images)\n",
        "\n",
        "#Here, the model has predicted the label for each image in the testing set. Let's take a look at the first prediction:\n",
        "predictions[0]"
      ],
      "execution_count": 32,
      "outputs": [
        {
          "output_type": "execute_result",
          "data": {
            "text/plain": [
              "array([1.0036387e-05, 3.4244987e-08, 4.3178170e-07, 8.6362770e-06,\n",
              "       3.8048933e-07, 3.1895697e-02, 1.6053496e-05, 9.8583072e-02,\n",
              "       3.7384135e-04, 8.6911190e-01], dtype=float32)"
            ]
          },
          "metadata": {
            "tags": []
          },
          "execution_count": 32
        }
      ]
    },
    {
      "cell_type": "markdown",
      "metadata": {
        "id": "YbqRNnk7_ej4",
        "colab_type": "text"
      },
      "source": [
        "A prediction is an array of 10 numbers. They represent the model's \"confidence\" that the image corresponds to each of the 10 different articles of clothing"
      ]
    },
    {
      "cell_type": "code",
      "metadata": {
        "id": "FlmVdEVQ_pp0",
        "colab_type": "code",
        "colab": {
          "base_uri": "https://localhost:8080/",
          "height": 34
        },
        "outputId": "ffb3f9d8-34fc-4a2a-a08c-6608f87591c6"
      },
      "source": [
        "#We can see which label has the highest confidence value:\n",
        "np.argmax(predictions[0])"
      ],
      "execution_count": 33,
      "outputs": [
        {
          "output_type": "execute_result",
          "data": {
            "text/plain": [
              "9"
            ]
          },
          "metadata": {
            "tags": []
          },
          "execution_count": 33
        }
      ]
    },
    {
      "cell_type": "markdown",
      "metadata": {
        "id": "pRdPQvys_zV_",
        "colab_type": "text"
      },
      "source": [
        "So, the model is most confident that this image is an ankle boot, or class_names[9]. Examining the test label shows that this classification is correct:"
      ]
    },
    {
      "cell_type": "code",
      "metadata": {
        "id": "sP_x7HSSADj0",
        "colab_type": "code",
        "colab": {
          "base_uri": "https://localhost:8080/",
          "height": 34
        },
        "outputId": "b411a51a-cda0-4823-f3c7-c05d91174255"
      },
      "source": [
        "test_labels[0]"
      ],
      "execution_count": 35,
      "outputs": [
        {
          "output_type": "execute_result",
          "data": {
            "text/plain": [
              "9"
            ]
          },
          "metadata": {
            "tags": []
          },
          "execution_count": 35
        }
      ]
    },
    {
      "cell_type": "markdown",
      "metadata": {
        "id": "S6BBL8U6AFXN",
        "colab_type": "text"
      },
      "source": [
        "**We can graph this to look at the full set of 10 channels.**"
      ]
    },
    {
      "cell_type": "code",
      "metadata": {
        "id": "8Y4Ph-iKAYfx",
        "colab_type": "code",
        "colab": {}
      },
      "source": [
        "def plot_image(i, predictions_array, true_label, img) :\n",
        "  predictions_array, true_label, img = predictions_array[i], true_label[i], img[i]\n",
        "  plt.grid(False)\n",
        "  plt.xticks([])\n",
        "  plt.yticks([])\n",
        "  \n",
        "  plt.imshow(img, cmap=plt.cm.binary)\n",
        "  \n",
        "  predicted_label = np.argmax(predictions_array)\n",
        "  if predicted_label == true_label :\n",
        "    color = 'blue'\n",
        "  else :\n",
        "    color = 'red'    \n",
        "  \n",
        "  plt.xlabel(\"{} {:2.0f}% ({})\".format(class_names[predicted_label],\n",
        "                                      100 * np.max(predictions_array),\n",
        "                                      class_names[true_label]),\n",
        "            color = color)\n",
        "  \n",
        " "
      ],
      "execution_count": 0,
      "outputs": []
    },
    {
      "cell_type": "code",
      "metadata": {
        "id": "gOVu7zXrCLTZ",
        "colab_type": "code",
        "colab": {}
      },
      "source": [
        "def plot_value_array(i, predictions_array, true_label):\n",
        "  predictions_array, true_label = predictions_array[i], true_label[i]\n",
        "  plt.grid(False)\n",
        "  plt.xticks([])\n",
        "  plt.yticks([])\n",
        "  thisplot= plt.bar(range(10), predictions_array, color= '#777777')\n",
        "  plt.ylim([0,1])\n",
        "  predicted_label = np.argmax(predictions_array)\n",
        "  \n",
        "  thisplot[predicted_label].set_color('red')\n",
        "  thisplot[true_label].set_color('blue')"
      ],
      "execution_count": 0,
      "outputs": []
    },
    {
      "cell_type": "code",
      "metadata": {
        "id": "axXbpMeiDFE2",
        "colab_type": "code",
        "colab": {
          "base_uri": "https://localhost:8080/",
          "height": 206
        },
        "outputId": "42266053-b782-4d98-f1e0-e0a1ee4488d7"
      },
      "source": [
        "#Let's look at the 0th image, predictions, and prediction array.\n",
        "i =0\n",
        "plt.figure(figsize=(6,3))\n",
        "plt.subplot(1,2,1)\n",
        "plot_image(i, predictions, test_labels, test_images)\n",
        "plt.subplot(1,2,2)\n",
        "plot_value_array(i,predictions, test_labels)\n",
        "plt.show()"
      ],
      "execution_count": 42,
      "outputs": [
        {
          "output_type": "display_data",
          "data": {
            "image/png": "[encoded data removed]",
            "text/plain": [
              "<Figure size 432x216 with 2 Axes>"
            ]
          },
          "metadata": {
            "tags": []
          }
        }
      ]
    },
    {
      "cell_type": "code",
      "metadata": {
        "id": "9zBy8D0rDpAX",
        "colab_type": "code",
        "colab": {
          "base_uri": "https://localhost:8080/",
          "height": 206
        },
        "outputId": "23725827-b9ab-413e-a083-f7782861f992"
      },
      "source": [
        "i = 12\n",
        "plt.figure(figsize=(6,3))\n",
        "plt.subplot(1,2,1)\n",
        "plot_image(i, predictions, test_labels, test_images)\n",
        "plt.subplot(1,2,2)\n",
        "plot_value_array(i,predictions, test_labels)\n",
        "plt.show()"
      ],
      "execution_count": 49,
      "outputs": [
        {
          "output_type": "display_data",
          "data": {
            "image/png": "[encoded data removed]",
            "text/plain": [
              "<Figure size 432x216 with 2 Axes>"
            ]
          },
          "metadata": {
            "tags": []
          }
        }
      ]
    },
    {
      "cell_type": "markdown",
      "metadata": {
        "id": "ywxOs6jyEPbn",
        "colab_type": "text"
      },
      "source": [
        "Let's plot several images with their predictions. Correct prediction labels are blue and incorrect prediction labels are red. The number gives the percentage (out of 100) for the predicted label. Note that the model can be wrong even when very confident."
      ]
    },
    {
      "cell_type": "code",
      "metadata": {
        "id": "4l-rEOGZFQ6g",
        "colab_type": "code",
        "colab": {
          "base_uri": "https://localhost:8080/",
          "height": 374
        },
        "outputId": "9f78fbff-6cd6-4706-ae38-7ee198fbe3c8"
      },
      "source": [
        "num_rows = 3\n",
        "num_cols = 3\n",
        "num_images = num_rows * num_cols\n",
        "plt.figure(figsize=(2*2*num_cols, 2*num_rows))\n",
        "for i in range(num_images):\n",
        "  plt.subplot(num_rows, 2*num_cols, 2 * i + 1)\n",
        "  plot_image(i, predictions, test_labels, test_images)\n",
        "  plt.subplot(num_rows, 2*num_cols, 2*i+2)\n",
        "  plot_value_array(i, predictions, test_labels)\n",
        "plt.show()  "
      ],
      "execution_count": 50,
      "outputs": [
        {
          "output_type": "display_data",
          "data": {
            "image/png": "[encoded data removed]",
            "text/plain": [
              "<Figure size 864x432 with 18 Axes>"
            ]
          },
          "metadata": {
            "tags": []
          }
        }
      ]
    },
    {
      "cell_type": "markdown",
      "metadata": {
        "id": "IljW1eEWGPGc",
        "colab_type": "text"
      },
      "source": [
        "Finally, use the trained model to make a prediction about a single image."
      ]
    },
    {
      "cell_type": "code",
      "metadata": {
        "id": "cfaT-8sHHZuP",
        "colab_type": "code",
        "colab": {
          "base_uri": "https://localhost:8080/",
          "height": 34
        },
        "outputId": "88bef41a-c5f3-473e-fd81-ae1ebb52127e"
      },
      "source": [
        "#Grab image from the test dataset\n",
        "img = test_images[0]\n",
        "print(img.shape)"
      ],
      "execution_count": 51,
      "outputs": [
        {
          "output_type": "stream",
          "text": [
            "(28, 28)\n"
          ],
          "name": "stdout"
        }
      ]
    },
    {
      "cell_type": "markdown",
      "metadata": {
        "id": "8nRGxpU3HiZ3",
        "colab_type": "text"
      },
      "source": [
        "***tf.keras*** models are optimized to make predictions on a batch, or collection, of examples at once. Accordingly, even though we're using a single image, we need to add it to a list:\n",
        "\n"
      ]
    },
    {
      "cell_type": "code",
      "metadata": {
        "id": "F7n2l_EvHvpg",
        "colab_type": "code",
        "colab": {
          "base_uri": "https://localhost:8080/",
          "height": 34
        },
        "outputId": "28ff9a00-6980-404d-e3b0-52e1d393f19f"
      },
      "source": [
        "img = (np.expand_dims(img,0))\n",
        "print(img.shape)"
      ],
      "execution_count": 52,
      "outputs": [
        {
          "output_type": "stream",
          "text": [
            "(1, 28, 28)\n"
          ],
          "name": "stdout"
        }
      ]
    },
    {
      "cell_type": "code",
      "metadata": {
        "id": "vCiglptJH4xV",
        "colab_type": "code",
        "colab": {
          "base_uri": "https://localhost:8080/",
          "height": 50
        },
        "outputId": "b547b959-62ec-4915-b20d-93501af8201a"
      },
      "source": [
        "#Now predict the correct label for this image:\n",
        "predictions_single = model.predict(img)\n",
        "print(predictions_single)"
      ],
      "execution_count": 53,
      "outputs": [
        {
          "output_type": "stream",
          "text": [
            "[[1.0036378e-05 3.4245055e-08 4.3178090e-07 8.6362688e-06 3.8048972e-07\n",
            "  3.1895660e-02 1.6053482e-05 9.8582990e-02 3.7384100e-04 8.6911196e-01]]\n"
          ],
          "name": "stdout"
        }
      ]
    },
    {
      "cell_type": "code",
      "metadata": {
        "id": "Xn9n3sRXIDWF",
        "colab_type": "code",
        "colab": {
          "base_uri": "https://localhost:8080/",
          "height": 304
        },
        "outputId": "0591ca87-54ff-45e1-a514-a07d966d6369"
      },
      "source": [
        "plot_value_array(0, predictions_single, test_labels)\n",
        "_ = plt.xticks(range(10), class_names, rotation=45)"
      ],
      "execution_count": 54,
      "outputs": [
        {
          "output_type": "display_data",
          "data": {
            "image/png": "[encoded data removed]",
            "text/plain": [
              "<Figure size 432x288 with 1 Axes>"
            ]
          },
          "metadata": {
            "tags": []
          }
        }
      ]
    },
    {
      "cell_type": "markdown",
      "metadata": {
        "id": "euA22Pc2IPYq",
        "colab_type": "text"
      },
      "source": [
        "**model.predict** returns a list of lists—one list for each image in the batch of data"
      ]
    },
    {
      "cell_type": "code",
      "metadata": {
        "id": "S8ZMNO8hIVF5",
        "colab_type": "code",
        "colab": {}
      },
      "source": [
        "#Grab the predictions for our (only) image in the batch:"
      ],
      "execution_count": 0,
      "outputs": []
    },
    {
      "cell_type": "code",
      "metadata": {
        "id": "ciyRkBqNIXJ2",
        "colab_type": "code",
        "colab": {
          "base_uri": "https://localhost:8080/",
          "height": 34
        },
        "outputId": "a8215933-1d06-4619-9ebb-85a8154dd69f"
      },
      "source": [
        "np.argmax(predictions_single[0])"
      ],
      "execution_count": 56,
      "outputs": [
        {
          "output_type": "execute_result",
          "data": {
            "text/plain": [
              "9"
            ]
          },
          "metadata": {
            "tags": []
          },
          "execution_count": 56
        }
      ]
    },
    {
      "cell_type": "markdown",
      "metadata": {
        "id": "vqKG0XfrIcjT",
        "colab_type": "text"
      },
      "source": [
        "And, as before, the model predicts a label of 9."
      ]
    }
  ]
}